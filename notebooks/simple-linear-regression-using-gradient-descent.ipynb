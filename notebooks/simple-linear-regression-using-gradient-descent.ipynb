{
 "cells": [
  {
   "cell_type": "markdown",
   "metadata": {},
   "source": [
    "# Simple Linear Regression using Gradient Descent"
   ]
  },
  {
   "cell_type": "code",
   "execution_count": 1,
   "metadata": {},
   "outputs": [
    {
     "name": "stdout",
     "output_type": "stream",
     "text": [
      "2.0.0\n"
     ]
    }
   ],
   "source": [
    "import numpy as np\n",
    "import pandas as pd\n",
    "import matplotlib.pyplot as plt\n",
    "print(np.__version__)"
   ]
  },
  {
   "cell_type": "code",
   "execution_count": 2,
   "metadata": {},
   "outputs": [],
   "source": [
    "class LinearRegression:\n",
    "    def __init__(self):\n",
    "        self.parameters = {}\n",
    "    \n",
    "    def forward_propagation(self,train_input):\n",
    "        m = self.parameters['m']\n",
    "        c = self.parameters['c']\n",
    "        predictions = np.multiply(m, train_input) + c\n",
    "        return predictions\n",
    "\n",
    "    def cost_function(self,predictions,train_output):\n",
    "        cost = np.mean((predictions - train_output) ** 2)\n",
    "        return cost\n",
    "    \n",
    "    def back_propagation(self,train_input,train_output,predictions):\n",
    "        derivatives = {} \n",
    "        differences = predictions - train_output\n",
    "        derivatives['dm'] = 2 * np.mean(np.multiply(train_input, differences)) \n",
    "        derivatives['dc'] = 2 * np.mean(differences)\n",
    "        return derivatives\n",
    "    \n",
    "    def update_parameters(self,derivatives,learning_rate):\n",
    "        self.parameters['m'] = self.parameters['m'] - learning_rate * derivatives['dm']\n",
    "        self.parameters['c'] = self.parameters['c'] - learning_rate * derivatives['dc']\n",
    "        \n",
    "        \n",
    "    \n",
    "    def train(self,train_input,train_output,learning_rate=0.0001,epochs=1000):\n",
    "        self.parameters['m'] = np.random.uniform(0,1)\n",
    "        self.parameters['c'] = np.random.uniform(0,1)\n",
    "\n",
    "        self.loss = []\n",
    "\n",
    "        for epoch in range(epochs):\n",
    "            \n",
    "            predictions = self.forward_propagation(train_input)\n",
    "\n",
    "            cost = self.cost_function(predictions,train_output)\n",
    "            self.loss.append(cost)\n",
    "            derivatives = self.back_propagation(train_input,train_output,predictions)\n",
    "            self.update_parameters(derivatives,learning_rate)\n",
    "            \n",
    "            print(f'Epoch: {epoch}, Cost: {cost}')\n",
    "\n",
    "        return self.parameters"
   ]
  },
  {
   "cell_type": "code",
   "execution_count": 3,
   "metadata": {},
   "outputs": [],
   "source": [
    "def predictor(test_input):\n",
    "    y = linear.parameters['m'] * test_input + linear.parameters['c']\n",
    "    return y"
   ]
  },
  {
   "cell_type": "code",
   "execution_count": 19,
   "metadata": {},
   "outputs": [],
   "source": [
    "class EvaluationMetrics:\n",
    "\n",
    "    def mse(self,predictions,labels):\n",
    "        differences = predictions-labels\n",
    "        n = len(predictions)\n",
    "        return 1.0/n * np.dot(differences.T,differences)\n",
    "    \n",
    "    def mae(self,predictions,labels):\n",
    "        differences = predictions-labels\n",
    "        sum = 0\n",
    "        n = len(predictions)-1\n",
    "        for i in range(len(differences)):\n",
    "            sum += abs(differences[i])\n",
    "        return 1.0/n * sum\n",
    "    \n",
    "    def rmse(self,predictions,labels):\n",
    "        return np.sqrt(self.mse(predictions,labels))\n",
    "    \n",
    "    def r_squared(self,predictions,labels,mean):\n",
    "        RSS = np.sum((labels - predictions) ** 2)\n",
    "        TSS = np.sum((labels - mean) ** 2)\n",
    "        r2 = 1 - (RSS/TSS)\n",
    "        return r2\n",
    "    "
   ]
  },
  {
   "cell_type": "code",
   "execution_count": 5,
   "metadata": {},
   "outputs": [],
   "source": [
    "url = 'https://media.geeksforgeeks.org/wp-content/uploads/20240320114716/data_for_lr.csv'\n",
    "data = pd.read_csv(url)"
   ]
  },
  {
   "cell_type": "code",
   "execution_count": 6,
   "metadata": {},
   "outputs": [
    {
     "data": {
      "text/html": [
       "<div>\n",
       "<style scoped>\n",
       "    .dataframe tbody tr th:only-of-type {\n",
       "        vertical-align: middle;\n",
       "    }\n",
       "\n",
       "    .dataframe tbody tr th {\n",
       "        vertical-align: top;\n",
       "    }\n",
       "\n",
       "    .dataframe thead th {\n",
       "        text-align: right;\n",
       "    }\n",
       "</style>\n",
       "<table border=\"1\" class=\"dataframe\">\n",
       "  <thead>\n",
       "    <tr style=\"text-align: right;\">\n",
       "      <th></th>\n",
       "      <th>x</th>\n",
       "      <th>y</th>\n",
       "    </tr>\n",
       "  </thead>\n",
       "  <tbody>\n",
       "    <tr>\n",
       "      <th>0</th>\n",
       "      <td>24.0</td>\n",
       "      <td>21.549452</td>\n",
       "    </tr>\n",
       "    <tr>\n",
       "      <th>1</th>\n",
       "      <td>50.0</td>\n",
       "      <td>47.464463</td>\n",
       "    </tr>\n",
       "    <tr>\n",
       "      <th>2</th>\n",
       "      <td>15.0</td>\n",
       "      <td>17.218656</td>\n",
       "    </tr>\n",
       "    <tr>\n",
       "      <th>3</th>\n",
       "      <td>38.0</td>\n",
       "      <td>36.586398</td>\n",
       "    </tr>\n",
       "    <tr>\n",
       "      <th>4</th>\n",
       "      <td>87.0</td>\n",
       "      <td>87.288984</td>\n",
       "    </tr>\n",
       "  </tbody>\n",
       "</table>\n",
       "</div>"
      ],
      "text/plain": [
       "      x          y\n",
       "0  24.0  21.549452\n",
       "1  50.0  47.464463\n",
       "2  15.0  17.218656\n",
       "3  38.0  36.586398\n",
       "4  87.0  87.288984"
      ]
     },
     "execution_count": 6,
     "metadata": {},
     "output_type": "execute_result"
    }
   ],
   "source": [
    "data.head(5)"
   ]
  },
  {
   "cell_type": "code",
   "execution_count": 7,
   "metadata": {},
   "outputs": [
    {
     "data": {
      "text/plain": [
       "700"
      ]
     },
     "execution_count": 7,
     "metadata": {},
     "output_type": "execute_result"
    }
   ],
   "source": [
    "data.x.size"
   ]
  },
  {
   "cell_type": "code",
   "execution_count": 8,
   "metadata": {},
   "outputs": [
    {
     "name": "stdout",
     "output_type": "stream",
     "text": [
      "<class 'pandas.core.frame.DataFrame'>\n",
      "RangeIndex: 700 entries, 0 to 699\n",
      "Data columns (total 2 columns):\n",
      " #   Column  Non-Null Count  Dtype  \n",
      "---  ------  --------------  -----  \n",
      " 0   x       700 non-null    float64\n",
      " 1   y       699 non-null    float64\n",
      "dtypes: float64(2)\n",
      "memory usage: 11.1 KB\n"
     ]
    }
   ],
   "source": [
    "data.info()"
   ]
  },
  {
   "cell_type": "code",
   "execution_count": 9,
   "metadata": {},
   "outputs": [],
   "source": [
    "data = data.dropna()"
   ]
  },
  {
   "cell_type": "code",
   "execution_count": 10,
   "metadata": {},
   "outputs": [],
   "source": [
    "train_input = np.array(data.x[0:500]).reshape(500,1)\n",
    "train_output = np.array(data.y[0:500]).reshape(500,1)\n",
    "\n",
    "test_input = np.array(data.x[500:700]).reshape(199,1)\n",
    "test_output = np.array(data.y[500:700]).reshape(199,1)"
   ]
  },
  {
   "cell_type": "code",
   "execution_count": 11,
   "metadata": {},
   "outputs": [
    {
     "name": "stdout",
     "output_type": "stream",
     "text": [
      "Epoch: 0, Cost: 2368.6652788975\n",
      "Epoch: 1, Cost: 292.3554771654177\n",
      "Epoch: 2, Cost: 42.1375475246321\n",
      "Epoch: 3, Cost: 11.983561215659343\n",
      "Epoch: 4, Cost: 8.349674960431807\n",
      "Epoch: 5, Cost: 7.911749371299404\n",
      "Epoch: 6, Cost: 7.858971823274955\n",
      "Epoch: 7, Cost: 7.852608805917715\n",
      "Epoch: 8, Cost: 7.851839244896512\n",
      "Epoch: 9, Cost: 7.851743756512378\n",
      "Epoch: 10, Cost: 7.851729501493555\n",
      "Epoch: 11, Cost: 7.8517250362561\n",
      "Epoch: 12, Cost: 7.851721751070619\n",
      "Epoch: 13, Cost: 7.851718608371001\n",
      "Epoch: 14, Cost: 7.851715483119205\n",
      "Epoch: 15, Cost: 7.851712360246763\n",
      "Epoch: 16, Cost: 7.85170923793773\n",
      "Epoch: 17, Cost: 7.851706115973236\n",
      "Epoch: 18, Cost: 7.851702994326879\n",
      "Epoch: 19, Cost: 7.85169987299545\n",
      "{'m': np.float64(0.9956899849526802), 'c': np.float64(0.11461701801384898)}\n"
     ]
    }
   ],
   "source": [
    "linear = LinearRegression()\n",
    "parameters = linear.train(train_input,train_output,epochs=20)\n",
    "print(parameters)"
   ]
  },
  {
   "cell_type": "code",
   "execution_count": 12,
   "metadata": {},
   "outputs": [
    {
     "data": {
      "text/plain": [
       "20"
      ]
     },
     "execution_count": 12,
     "metadata": {},
     "output_type": "execute_result"
    }
   ],
   "source": [
    "len(linear.loss)"
   ]
  },
  {
   "cell_type": "code",
   "execution_count": 13,
   "metadata": {},
   "outputs": [
    {
     "data": {
      "image/png": "[encoded data removed]",
      "text/plain": [
       "<Figure size 640x480 with 1 Axes>"
      ]
     },
     "metadata": {},
     "output_type": "display_data"
    }
   ],
   "source": [
    "fig, ax = plt.subplots()\n",
    "\n",
    "ax.scatter([i for i in range(0,len(linear.loss))],linear.loss)\n",
    "ax.set_xlabel(\"Epoch\")\n",
    "ax.set_ylabel(\"Cost\")\n",
    "ax.plot([i for i in range(0,len(linear.loss))],linear.loss)\n",
    "ax.set_title(\"Cost Curve\")\n",
    "plt.show()\n"
   ]
  },
  {
   "cell_type": "code",
   "execution_count": 14,
   "metadata": {},
   "outputs": [
    {
     "data": {
      "image/png": "[encoded data removed]",
      "text/plain": [
       "<Figure size 640x480 with 1 Axes>"
      ]
     },
     "metadata": {},
     "output_type": "display_data"
    }
   ],
   "source": [
    "y = parameters['m'] * train_input +parameters['c']\n",
    "plt.scatter(train_input,train_output)\n",
    "plt.plot(train_input,y,'r')\n",
    "plt.show()"
   ]
  },
  {
   "cell_type": "code",
   "execution_count": 15,
   "metadata": {},
   "outputs": [],
   "source": [
    "predictions = predictor(test_input)"
   ]
  },
  {
   "cell_type": "code",
   "execution_count": 20,
   "metadata": {},
   "outputs": [
    {
     "name": "stdout",
     "output_type": "stream",
     "text": [
      "The MSE of the Model is:  7.98309290366406\n",
      "The MAE of the Model is:  2.248112023542661\n",
      "The RMSE of the Model is:  2.8254367633454582\n",
      "The R2 of the Model is:  0.990907996050178\n"
     ]
    }
   ],
   "source": [
    "Evaluator = EvaluationMetrics()\n",
    "print(\"The MSE of the Model is: \",Evaluator.mse(predictions,test_output)[0][0])\n",
    "print(\"The MAE of the Model is: \",Evaluator.mae(predictions,test_output)[0])\n",
    "print(\"The RMSE of the Model is: \",Evaluator.rmse(predictions,test_output)[0][0])\n",
    "print(\"The R2 of the Model is: \",Evaluator.r_squared(predictions,test_output,np.mean(test_output)))"
   ]
  },
  {
   "cell_type": "code",
   "execution_count": null,
   "metadata": {},
   "outputs": [],
   "source": []
  }
 ],
 "metadata": {
  "language_info": {
   "name": "python"
  }
 },
 "nbformat": 4,
 "nbformat_minor": 2
}
