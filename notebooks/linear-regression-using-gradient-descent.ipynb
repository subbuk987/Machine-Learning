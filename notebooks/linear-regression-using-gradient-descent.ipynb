{
 "cells": [
  {
   "cell_type": "markdown",
   "metadata": {},
   "source": [
    "# Linear Regression using Gradient Descent"
   ]
  },
  {
   "cell_type": "code",
   "execution_count": 45,
   "metadata": {},
   "outputs": [
    {
     "name": "stdout",
     "output_type": "stream",
     "text": [
      "2.0.0\n"
     ]
    }
   ],
   "source": [
    "import numpy as np\n",
    "import pandas as pd\n",
    "print(np.__version__)"
   ]
  },
  {
   "cell_type": "code",
   "execution_count": 56,
   "metadata": {},
   "outputs": [],
   "source": [
    "class LinearRegression:\n",
    "    def __init__(self):\n",
    "        self.parameters = {}\n",
    "    \n",
    "    def forward_propagation(self,train_input):\n",
    "        predictions = np.multiply(self.parameters['m'], train_input) + self.parameters['c']\n",
    "        return predictions\n",
    "\n",
    "    def cost_function(self,predictions,train_output):\n",
    "        cost = np.mean((predictions - train_output) ** 2)\n",
    "        return cost\n",
    "    \n",
    "    def back_propagation(self,learning_rate,train_input,train_output,predictions):\n",
    "        differences = predictions - train_output\n",
    "        self.parameters['c'] -= learning_rate * (2 * (np.mean(differences)))\n",
    "        self.parameters['m'] -= learning_rate * (2 * (np.mean(np.multiply(train_input, differences))))\n",
    "        \n",
    "    \n",
    "    def train(self,train_input,train_output,learning_rate=0.01,epochs=1000):\n",
    "        self.parameters['m'] = np.random.uniform(0,1) \n",
    "        self.parameters['c'] = np.random.uniform(0,1)\n",
    "\n",
    "        self.loss = []\n",
    "\n",
    "        for epoch in range(epochs):\n",
    "            predictions = self.forward_propagation(train_input)\n",
    "\n",
    "            cost = self.cost_function(predictions,train_output)\n",
    "            self.loss.append(cost)\n",
    "\n",
    "            self.back_propagation(learning_rate,train_input,train_output,predictions)\n",
    "\n",
    "\n",
    "        return self.parameters"
   ]
  },
  {
   "cell_type": "code",
   "execution_count": 47,
   "metadata": {},
   "outputs": [],
   "source": [
    "url = 'https://media.geeksforgeeks.org/wp-content/uploads/20240320114716/data_for_lr.csv'\n",
    "data = pd.read_csv(url)"
   ]
  },
  {
   "cell_type": "code",
   "execution_count": 48,
   "metadata": {},
   "outputs": [
    {
     "data": {
      "text/html": [
       "<div>\n",
       "<style scoped>\n",
       "    .dataframe tbody tr th:only-of-type {\n",
       "        vertical-align: middle;\n",
       "    }\n",
       "\n",
       "    .dataframe tbody tr th {\n",
       "        vertical-align: top;\n",
       "    }\n",
       "\n",
       "    .dataframe thead th {\n",
       "        text-align: right;\n",
       "    }\n",
       "</style>\n",
       "<table border=\"1\" class=\"dataframe\">\n",
       "  <thead>\n",
       "    <tr style=\"text-align: right;\">\n",
       "      <th></th>\n",
       "      <th>x</th>\n",
       "      <th>y</th>\n",
       "    </tr>\n",
       "  </thead>\n",
       "  <tbody>\n",
       "    <tr>\n",
       "      <th>0</th>\n",
       "      <td>24.0</td>\n",
       "      <td>21.549452</td>\n",
       "    </tr>\n",
       "    <tr>\n",
       "      <th>1</th>\n",
       "      <td>50.0</td>\n",
       "      <td>47.464463</td>\n",
       "    </tr>\n",
       "    <tr>\n",
       "      <th>2</th>\n",
       "      <td>15.0</td>\n",
       "      <td>17.218656</td>\n",
       "    </tr>\n",
       "    <tr>\n",
       "      <th>3</th>\n",
       "      <td>38.0</td>\n",
       "      <td>36.586398</td>\n",
       "    </tr>\n",
       "    <tr>\n",
       "      <th>4</th>\n",
       "      <td>87.0</td>\n",
       "      <td>87.288984</td>\n",
       "    </tr>\n",
       "  </tbody>\n",
       "</table>\n",
       "</div>"
      ],
      "text/plain": [
       "      x          y\n",
       "0  24.0  21.549452\n",
       "1  50.0  47.464463\n",
       "2  15.0  17.218656\n",
       "3  38.0  36.586398\n",
       "4  87.0  87.288984"
      ]
     },
     "execution_count": 48,
     "metadata": {},
     "output_type": "execute_result"
    }
   ],
   "source": [
    "data.head(5)"
   ]
  },
  {
   "cell_type": "code",
   "execution_count": 49,
   "metadata": {},
   "outputs": [
    {
     "data": {
      "text/plain": [
       "700"
      ]
     },
     "execution_count": 49,
     "metadata": {},
     "output_type": "execute_result"
    }
   ],
   "source": [
    "data.x.size"
   ]
  },
  {
   "cell_type": "code",
   "execution_count": 50,
   "metadata": {},
   "outputs": [
    {
     "name": "stdout",
     "output_type": "stream",
     "text": [
      "<class 'pandas.core.frame.DataFrame'>\n",
      "RangeIndex: 700 entries, 0 to 699\n",
      "Data columns (total 2 columns):\n",
      " #   Column  Non-Null Count  Dtype  \n",
      "---  ------  --------------  -----  \n",
      " 0   x       700 non-null    float64\n",
      " 1   y       699 non-null    float64\n",
      "dtypes: float64(2)\n",
      "memory usage: 11.1 KB\n"
     ]
    }
   ],
   "source": [
    "data.info()"
   ]
  },
  {
   "cell_type": "code",
   "execution_count": 51,
   "metadata": {},
   "outputs": [],
   "source": [
    "data = data.dropna()"
   ]
  },
  {
   "cell_type": "code",
   "execution_count": 52,
   "metadata": {},
   "outputs": [],
   "source": [
    "train_input = np.array(data.x[0:500]).reshape(500,1)\n",
    "train_output = np.array(data.y[0:500]).reshape(500,1)\n",
    "\n",
    "test_input = np.array(data.x[500:700]).reshape(199,1)\n",
    "test_output = np.array(data.y[500:700]).reshape(199,1)"
   ]
  },
  {
   "cell_type": "code",
   "execution_count": 57,
   "metadata": {},
   "outputs": [
    {
     "name": "stdout",
     "output_type": "stream",
     "text": [
      "{'m': np.float64(nan), 'c': np.float64(nan)}\n"
     ]
    },
    {
     "name": "stderr",
     "output_type": "stream",
     "text": [
      "/home/codespace/.local/lib/python3.10/site-packages/numpy/_core/_methods.py:127: RuntimeWarning: overflow encountered in reduce\n",
      "  ret = umr_sum(arr, axis, dtype, out, keepdims, where=where)\n",
      "/tmp/ipykernel_2020/967185630.py:10: RuntimeWarning: overflow encountered in square\n",
      "  cost = np.mean((predictions - train_output) ** 2)\n",
      "/tmp/ipykernel_2020/967185630.py:6: RuntimeWarning: invalid value encountered in multiply\n",
      "  predictions = np.multiply(self.parameters['m'], train_input) + self.parameters['c']\n"
     ]
    }
   ],
   "source": [
    "linear = LinearRegression()\n",
    "parameters = linear.train(train_input,train_output)\n",
    "print(parameters)"
   ]
  },
  {
   "cell_type": "code",
   "execution_count": null,
   "metadata": {},
   "outputs": [],
   "source": []
  }
 ],
 "metadata": {
  "language_info": {
   "name": "python"
  }
 },
 "nbformat": 4,
 "nbformat_minor": 2
}
